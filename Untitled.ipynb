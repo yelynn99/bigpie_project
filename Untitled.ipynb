{
  "nbformat": 4,
  "nbformat_minor": 0,
  "metadata": {
    "colab": {
      "name": "Untitled",
      "provenance": [],
      "authorship_tag": "ABX9TyM2IjftpoO8fUUgKQHNYx6p",
      "include_colab_link": true
    },
    "kernelspec": {
      "name": "python3",
      "display_name": "Python 3"
    }
  },
  "cells": [
    {
      "cell_type": "markdown",
      "metadata": {
        "id": "view-in-github",
        "colab_type": "text"
      },
      "source": [
        "<a href=\"https://colab.research.google.com/github/yelynn99/bigpie_project/blob/master/Untitled.ipynb\" target=\"_parent\"><img src=\"https://colab.research.google.com/assets/colab-badge.svg\" alt=\"Open In Colab\"/></a>"
      ]
    },
    {
      "cell_type": "code",
      "metadata": {
        "id": "2oxtI3PCL5hF",
        "colab_type": "code",
        "outputId": "5be0cbc9-c476-4186-99ce-54e3437525bb",
        "colab": {
          "base_uri": "https://localhost:8080/",
          "height": 52
        }
      },
      "source": [
        "print('일요일 낮의 날씨를 입력해주세요 :')\n",
        "날씨=input()"
      ],
      "execution_count": 0,
      "outputs": [
        {
          "output_type": "stream",
          "text": [
            "일요일 낮의 날씨를 입력해주세요 :\n",
            "비\n"
          ],
          "name": "stdout"
        }
      ]
    },
    {
      "cell_type": "code",
      "metadata": {
        "id": "8-WUFbFhMjSk",
        "colab_type": "code",
        "outputId": "c8ade828-0352-439c-a1a0-3b7957e4d418",
        "colab": {
          "base_uri": "https://localhost:8080/",
          "height": 35
        }
      },
      "source": [
        "if 날씨=='비':\n",
        "  print('집에서 프로그램 만들어')"
      ],
      "execution_count": 0,
      "outputs": [
        {
          "output_type": "stream",
          "text": [
            "집에서 프로그램 만들어\n"
          ],
          "name": "stdout"
        }
      ]
    },
    {
      "cell_type": "code",
      "metadata": {
        "id": "Xs-_739eTkGO",
        "colab_type": "code",
        "colab": {}
      },
      "source": [
        "def price():\n",
        "  a=int(input(\"물건개수입력\"))\n",
        "  if a>=100:\n",
        "    print(\"총지불해야 하는 값은\",a*85)\n",
        "  elif a>=30:\n",
        "    print(\"총지불해야 하는 값은\",a*90)\n",
        "  elif a>=10:\n",
        "    print(\"총지불해야 하는 값은\",a*95)\n",
        "  else:\n",
        "    print(\"총지불해야 하는 값은\",a*100)\n",
        "\n"
      ],
      "execution_count": 0,
      "outputs": []
    },
    {
      "cell_type": "code",
      "metadata": {
        "id": "vicMN8bAUYBP",
        "colab_type": "code",
        "outputId": "62052de8-7fd4-4c39-f851-8a4013526f3c",
        "colab": {
          "base_uri": "https://localhost:8080/",
          "height": 52
        }
      },
      "source": [
        "price()"
      ],
      "execution_count": 0,
      "outputs": [
        {
          "output_type": "stream",
          "text": [
            "물건개수입력8\n",
            "총지불해야 하는 값은 800\n"
          ],
          "name": "stdout"
        }
      ]
    },
    {
      "cell_type": "code",
      "metadata": {
        "id": "0AreQsxiVbP9",
        "colab_type": "code",
        "colab": {}
      },
      "source": [
        "def is_leap_year():\n",
        "  year=int(input())\n",
        "\n",
        "  if year%4==0 and (year%100 !=0 or year%400==0):\n",
        "    print(\"윤년이야\")\n",
        "  else:\n",
        "    print(\"윤년아니야\")"
      ],
      "execution_count": 0,
      "outputs": []
    },
    {
      "cell_type": "code",
      "metadata": {
        "id": "oq0LIbyqWKIu",
        "colab_type": "code",
        "outputId": "83649abb-39a9-4f67-b68c-0fe3588bd99c",
        "colab": {
          "base_uri": "https://localhost:8080/",
          "height": 52
        }
      },
      "source": [
        "is_leap_year()"
      ],
      "execution_count": 0,
      "outputs": [
        {
          "output_type": "stream",
          "text": [
            "240\n",
            "윤년이야\n"
          ],
          "name": "stdout"
        }
      ]
    },
    {
      "cell_type": "code",
      "metadata": {
        "id": "NwOwH3syWUF-",
        "colab_type": "code",
        "colab": {}
      },
      "source": [
        "def days_in_month():\n",
        "  month=int(input(\"달\"))\n",
        "  year=int(input(\"년\"))\n",
        "  if month==2:\n",
        "    if year%4==0 and (year%100 !=0 or year%400==0):\n",
        "      print(\"29일이야\")\n",
        "    else:\n",
        "      print(\"28일이야\")\n",
        "  elif month==4 or month==6 or month==9 or month==11:\n",
        "    print(\"31일이야\")\n",
        "  else:\n",
        "    print(\"30일이야\")\n",
        "\n",
        "\n",
        "\n"
      ],
      "execution_count": 0,
      "outputs": []
    },
    {
      "cell_type": "code",
      "metadata": {
        "id": "ZXA8JlS2XM4_",
        "colab_type": "code",
        "outputId": "ee1970c7-279a-4fbf-e824-48db66cac582",
        "colab": {
          "base_uri": "https://localhost:8080/",
          "height": 69
        }
      },
      "source": [
        "days_in_month()"
      ],
      "execution_count": 0,
      "outputs": [
        {
          "output_type": "stream",
          "text": [
            "달8\n",
            "년652\n",
            "30일이야\n"
          ],
          "name": "stdout"
        }
      ]
    },
    {
      "cell_type": "markdown",
      "metadata": {
        "id": "62cGUo1pXmSG",
        "colab_type": "text"
      },
      "source": [
        ""
      ]
    },
    {
      "cell_type": "code",
      "metadata": {
        "id": "B5REAjBnXmpv",
        "colab_type": "code",
        "outputId": "e0629660-61a8-4148-b23b-c6a335c8865b",
        "colab": {
          "base_uri": "https://localhost:8080/",
          "height": 52
        }
      },
      "source": [
        "x=int(input())\n",
        "x if x>=0 else -x"
      ],
      "execution_count": 0,
      "outputs": [
        {
          "output_type": "stream",
          "text": [
            "-39\n"
          ],
          "name": "stdout"
        },
        {
          "output_type": "execute_result",
          "data": {
            "text/plain": [
              "39"
            ]
          },
          "metadata": {
            "tags": []
          },
          "execution_count": 43
        }
      ]
    },
    {
      "cell_type": "code",
      "metadata": {
        "id": "RNAj5hW1x0aR",
        "colab_type": "code",
        "outputId": "7212d249-e464-4106-a3a0-0f19fdde9da7",
        "colab": {
          "base_uri": "https://localhost:8080/",
          "height": 191
        }
      },
      "source": [
        "천간=['갑','을','병','정','무','기','경','신','임','계']\n",
        "지지=['자','축','인','묘','진','사','오','미','신','유','술','해']\n",
        "\n",
        "for i in 천간:\n",
        "  for j in 지지:\n",
        "    print(i+j, end=' ')\n",
        "  print()"
      ],
      "execution_count": 0,
      "outputs": [
        {
          "output_type": "stream",
          "text": [
            "갑자 갑축 갑인 갑묘 갑진 갑사 갑오 갑미 갑신 갑유 갑술 갑해 \n",
            "을자 을축 을인 을묘 을진 을사 을오 을미 을신 을유 을술 을해 \n",
            "병자 병축 병인 병묘 병진 병사 병오 병미 병신 병유 병술 병해 \n",
            "정자 정축 정인 정묘 정진 정사 정오 정미 정신 정유 정술 정해 \n",
            "무자 무축 무인 무묘 무진 무사 무오 무미 무신 무유 무술 무해 \n",
            "기자 기축 기인 기묘 기진 기사 기오 기미 기신 기유 기술 기해 \n",
            "경자 경축 경인 경묘 경진 경사 경오 경미 경신 경유 경술 경해 \n",
            "신자 신축 신인 신묘 신진 신사 신오 신미 신신 신유 신술 신해 \n",
            "임자 임축 임인 임묘 임진 임사 임오 임미 임신 임유 임술 임해 \n",
            "계자 계축 계인 계묘 계진 계사 계오 계미 계신 계유 계술 계해 \n"
          ],
          "name": "stdout"
        }
      ]
    },
    {
      "cell_type": "code",
      "metadata": {
        "id": "BCdRr6we1bKT",
        "colab_type": "code",
        "outputId": "7176bd65-f871-4179-c1f3-2512177516b5",
        "colab": {
          "base_uri": "https://localhost:8080/",
          "height": 35
        }
      },
      "source": [
        "list(zip([1,2,4],['a','b','c'],['가','나','다']))"
      ],
      "execution_count": 0,
      "outputs": [
        {
          "output_type": "execute_result",
          "data": {
            "text/plain": [
              "[(1, 'a', '가'), (2, 'b', '나'), (4, 'c', '다')]"
            ]
          },
          "metadata": {
            "tags": []
          },
          "execution_count": 81
        }
      ]
    },
    {
      "cell_type": "code",
      "metadata": {
        "id": "WPq2cFRK1lJK",
        "colab_type": "code",
        "colab": {}
      },
      "source": [
        "def plus_elements():\n",
        "  a=input()\n",
        "  b=input()\n",
        "  for a,b in list(zip(a,b)):\n",
        "    print(a+b)"
      ],
      "execution_count": 0,
      "outputs": []
    },
    {
      "cell_type": "code",
      "metadata": {
        "id": "n90a8XSg1yjZ",
        "colab_type": "code",
        "outputId": "0628e7fb-2f17-46f7-d743-15a9e26d319f",
        "colab": {
          "base_uri": "https://localhost:8080/",
          "height": 307
        }
      },
      "source": [
        "plus_elements()"
      ],
      "execution_count": 0,
      "outputs": [
        {
          "output_type": "stream",
          "text": [
            "(1,2,3)\n",
            "(4,5,6)\n"
          ],
          "name": "stdout"
        },
        {
          "output_type": "error",
          "ename": "NameError",
          "evalue": "ignored",
          "traceback": [
            "\u001b[0;31m---------------------------------------------------------------------------\u001b[0m",
            "\u001b[0;31mNameError\u001b[0m                                 Traceback (most recent call last)",
            "\u001b[0;32m<ipython-input-101-98a157453768>\u001b[0m in \u001b[0;36m<module>\u001b[0;34m()\u001b[0m\n\u001b[0;32m----> 1\u001b[0;31m \u001b[0mplus_elements\u001b[0m\u001b[0;34m(\u001b[0m\u001b[0;34m)\u001b[0m\u001b[0;34m\u001b[0m\u001b[0;34m\u001b[0m\u001b[0m\n\u001b[0m",
            "\u001b[0;32m<ipython-input-100-9912070b07fc>\u001b[0m in \u001b[0;36mplus_elements\u001b[0;34m()\u001b[0m\n\u001b[1;32m      3\u001b[0m   \u001b[0mb\u001b[0m\u001b[0;34m=\u001b[0m\u001b[0minput\u001b[0m\u001b[0;34m(\u001b[0m\u001b[0;34m)\u001b[0m\u001b[0;34m\u001b[0m\u001b[0;34m\u001b[0m\u001b[0m\n\u001b[1;32m      4\u001b[0m   \u001b[0;32mfor\u001b[0m \u001b[0ma\u001b[0m\u001b[0;34m,\u001b[0m\u001b[0mb\u001b[0m \u001b[0;32min\u001b[0m \u001b[0mlist\u001b[0m\u001b[0;34m(\u001b[0m\u001b[0mzip\u001b[0m\u001b[0;34m(\u001b[0m\u001b[0ma\u001b[0m\u001b[0;34m,\u001b[0m\u001b[0mb\u001b[0m\u001b[0;34m)\u001b[0m\u001b[0;34m)\u001b[0m\u001b[0;34m:\u001b[0m\u001b[0;34m\u001b[0m\u001b[0;34m\u001b[0m\u001b[0m\n\u001b[0;32m----> 5\u001b[0;31m     \u001b[0mprint\u001b[0m\u001b[0;34m(\u001b[0m\u001b[0mint\u001b[0m\u001b[0;34m(\u001b[0m\u001b[0mc\u001b[0m\u001b[0;34m+\u001b[0m\u001b[0md\u001b[0m\u001b[0;34m)\u001b[0m\u001b[0;34m)\u001b[0m\u001b[0;34m\u001b[0m\u001b[0;34m\u001b[0m\u001b[0m\n\u001b[0m",
            "\u001b[0;31mNameError\u001b[0m: name 'c' is not defined"
          ]
        }
      ]
    },
    {
      "cell_type": "code",
      "metadata": {
        "id": "w0H8iIPe4GrR",
        "colab_type": "code",
        "outputId": "ea05e86b-c287-4026-c2a8-ff863a812fda",
        "colab": {
          "base_uri": "https://localhost:8080/",
          "height": 35
        }
      },
      "source": [
        "[e*e for e in[0,1,2,3,4,5,6,7,8,9]]"
      ],
      "execution_count": 0,
      "outputs": [
        {
          "output_type": "execute_result",
          "data": {
            "text/plain": [
              "[0, 1, 4, 9, 16, 25, 36, 49, 64, 81]"
            ]
          },
          "metadata": {
            "tags": []
          },
          "execution_count": 102
        }
      ]
    },
    {
      "cell_type": "code",
      "metadata": {
        "id": "Eb4oBnHb4fCF",
        "colab_type": "code",
        "outputId": "95874bad-eb9f-4bf3-ac20-9370fea840d4",
        "colab": {
          "base_uri": "https://localhost:8080/",
          "height": 35
        }
      },
      "source": [
        "a=[0,1,2,3,4,5,6,7,8,9]\n",
        "b=[]\n",
        "for i in a:\n",
        "  b.append(i*i)\n",
        "b\n"
      ],
      "execution_count": 0,
      "outputs": [
        {
          "output_type": "execute_result",
          "data": {
            "text/plain": [
              "[0, 1, 4, 9, 16, 25, 36, 49, 64, 81]"
            ]
          },
          "metadata": {
            "tags": []
          },
          "execution_count": 103
        }
      ]
    },
    {
      "cell_type": "code",
      "metadata": {
        "id": "faIIbMLb5Fn8",
        "colab_type": "code",
        "outputId": "21f410c1-aa47-432b-9e8e-64b041325c48",
        "colab": {
          "base_uri": "https://localhost:8080/",
          "height": 52
        }
      },
      "source": [
        "a=0\n",
        "b=list(input())\n",
        "for i in b:\n",
        "  a=a+1\n",
        "\n",
        "a\n",
        "\n",
        "// 앞부분에서 너무 시간을 많이써서\n",
        "7.9 이후부터 연습문제는 못풀고 그냥 읽기만했어요"
      ],
      "execution_count": 0,
      "outputs": [
        {
          "output_type": "stream",
          "text": [
            "(1,4,6)\n"
          ],
          "name": "stdout"
        },
        {
          "output_type": "execute_result",
          "data": {
            "text/plain": [
              "7"
            ]
          },
          "metadata": {
            "tags": []
          },
          "execution_count": 110
        }
      ]
    }
  ]
}