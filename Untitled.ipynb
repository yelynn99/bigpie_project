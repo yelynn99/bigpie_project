{
  "nbformat": 4,
  "nbformat_minor": 0,
  "metadata": {
    "colab": {
      "name": "Untitled",
      "provenance": [],
      "authorship_tag": "ABX9TyPUZ/FJ7tG7etX6amssC01L",
      "include_colab_link": true
    },
    "kernelspec": {
      "name": "python3",
      "display_name": "Python 3"
    }
  },
  "cells": [
    {
      "cell_type": "markdown",
      "metadata": {
        "id": "view-in-github",
        "colab_type": "text"
      },
      "source": [
        "<a href=\"https://colab.research.google.com/github/yelynn99/bigpie_project/blob/master/Untitled.ipynb\" target=\"_parent\"><img src=\"https://colab.research.google.com/assets/colab-badge.svg\" alt=\"Open In Colab\"/></a>"
      ]
    },
    {
      "cell_type": "code",
      "metadata": {
        "id": "YAeu5leFVH1p",
        "colab_type": "code",
        "outputId": "ffbd27c9-23de-49f4-9b1b-942ca5d15523",
        "colab": {
          "base_uri": "https://localhost:8080/",
          "height": 35
        }
      },
      "source": [
        "import random   \n",
        "random.randint(0,63)"
      ],
      "execution_count": 0,
      "outputs": [
        {
          "output_type": "execute_result",
          "data": {
            "text/plain": [
              "9"
            ]
          },
          "metadata": {
            "tags": []
          },
          "execution_count": 1
        }
      ]
    },
    {
      "cell_type": "code",
      "metadata": {
        "id": "JMEoZKbyVODH",
        "colab_type": "code",
        "colab": {}
      },
      "source": [
        "def a():  ///연습문제 7.14\n",
        "  while True:\n",
        "    n=random.randint(0,63)\n",
        "    yield n\n",
        "b=a()"
      ],
      "execution_count": 0,
      "outputs": []
    },
    {
      "cell_type": "code",
      "metadata": {
        "id": "GQ3s1ma8Vw8A",
        "colab_type": "code",
        "outputId": "9f856ef3-7600-4abb-dbeb-2814a4829d45",
        "colab": {
          "base_uri": "https://localhost:8080/",
          "height": 35
        }
      },
      "source": [
        "next(b)"
      ],
      "execution_count": 0,
      "outputs": [
        {
          "output_type": "execute_result",
          "data": {
            "text/plain": [
              "27"
            ]
          },
          "metadata": {
            "tags": []
          },
          "execution_count": 20
        }
      ]
    },
    {
      "cell_type": "code",
      "metadata": {
        "id": "4m6iz1F7Wasp",
        "colab_type": "code",
        "colab": {}
      },
      "source": [
        "a=(e**3 for e in range (10000000))"
      ],
      "execution_count": 0,
      "outputs": []
    },
    {
      "cell_type": "code",
      "metadata": {
        "id": "MD-aHC-bXXZc",
        "colab_type": "code",
        "outputId": "ebced41b-100c-4f04-f90d-991e80bf199d",
        "colab": {
          "base_uri": "https://localhost:8080/",
          "height": 35
        }
      },
      "source": [
        "next(a)"
      ],
      "execution_count": 0,
      "outputs": [
        {
          "output_type": "execute_result",
          "data": {
            "text/plain": [
              "27"
            ]
          },
          "metadata": {
            "tags": []
          },
          "execution_count": 27
        }
      ]
    },
    {
      "cell_type": "code",
      "metadata": {
        "id": "NoDhzzWnZFZi",
        "colab_type": "code",
        "colab": {}
      },
      "source": [
        "// 7.15 무슨 의미인지 모르겠다"
      ],
      "execution_count": 0,
      "outputs": []
    }
  ]
}