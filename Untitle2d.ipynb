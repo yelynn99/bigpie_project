{
  "nbformat": 4,
  "nbformat_minor": 0,
  "metadata": {
    "colab": {
      "name": "Untitled",
      "provenance": [],
      "authorship_tag": "ABX9TyMTULkwkK8CElpIpgA8s8te",
      "include_colab_link": true
    },
    "kernelspec": {
      "name": "python3",
      "display_name": "Python 3"
    }
  },
  "cells": [
    {
      "cell_type": "markdown",
      "metadata": {
        "id": "view-in-github",
        "colab_type": "text"
      },
      "source": [
        "<a href=\"https://colab.research.google.com/github/yelynn99/bigpie_project/blob/master/Untitle2d.ipynb\" target=\"_parent\"><img src=\"https://colab.research.google.com/assets/colab-badge.svg\" alt=\"Open In Colab\"/></a>"
      ]
    },
    {
      "cell_type": "code",
      "metadata": {
        "id": "c19FxQ_z-U2g",
        "colab_type": "code",
        "colab": {}
      },
      "source": [
        "체스말1 = {'type':'체스말','x':'A','y':'8','color':'black','role':'룩'}\n",
        "체스말2 = {'type':'체스말','x':'E','y':'1','color':'white','role':'킹'}\n",
        "\n",
        "바둑돌1 = {'type':'바둑돌','x':'8','y':'14','order':'83','color':'흑'}\n",
        "바둑돌2 = {'type':'바둑돌','x':'12','y':'3','order':'84','color':'백'}\n",
        "\n",
        "        "
      ],
      "execution_count": 0,
      "outputs": []
    },
    {
      "cell_type": "code",
      "metadata": {
        "id": "2M0-WaAn_D1L",
        "colab_type": "code",
        "colab": {}
      },
      "source": [
        "def print_piece(a):\n",
        "\n",
        "  if a['type'] == '체스말':\n",
        "    print(a['color'] + a['role'] +'이'+ a['x']+a['y']+'위치에 놓여 있어요.')\n",
        "  elif a ['type'] == '바둑돌':\n",
        "    print('제'+a['order'] +'수 :'+ a['color'] +'이'+ '('+a['x']+','+a['y']+')'+'위치에 두었습니다.')\n",
        "\n",
        "\n",
        "\n"
      ],
      "execution_count": 0,
      "outputs": []
    },
    {
      "cell_type": "code",
      "metadata": {
        "id": "77EdkY9NAXkT",
        "colab_type": "code",
        "outputId": "6dc9825f-b356-42cf-fec9-5030706e60e2",
        "colab": {
          "base_uri": "https://localhost:8080/",
          "height": 35
        }
      },
      "source": [
        "print_piece(체스말1)"
      ],
      "execution_count": 0,
      "outputs": [
        {
          "output_type": "stream",
          "text": [
            "black룩이A8위치에 놓여 있어요.\n"
          ],
          "name": "stdout"
        }
      ]
    },
    {
      "cell_type": "code",
      "metadata": {
        "id": "m1LAASXhAfbO",
        "colab_type": "code",
        "outputId": "a315de32-b142-4c39-c264-3e06637ca6ed",
        "colab": {
          "base_uri": "https://localhost:8080/",
          "height": 35
        }
      },
      "source": [
        "print_piece(바둑돌2)"
      ],
      "execution_count": 0,
      "outputs": [
        {
          "output_type": "stream",
          "text": [
            "제84수 :백이(12,3)위치에 두었습니다.\n"
          ],
          "name": "stdout"
        }
      ]
    }
  ]
}