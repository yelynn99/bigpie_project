{
  "nbformat": 4,
  "nbformat_minor": 0,
  "metadata": {
    "colab": {
      "name": "Untitled6.ipynb",
      "provenance": [],
      "authorship_tag": "ABX9TyO2yNmg/HHeJqzP+VRtQji5",
      "include_colab_link": true
    },
    "kernelspec": {
      "name": "python3",
      "display_name": "Python 3"
    }
  },
  "cells": [
    {
      "cell_type": "markdown",
      "metadata": {
        "id": "view-in-github",
        "colab_type": "text"
      },
      "source": [
        "<a href=\"https://colab.research.google.com/github/yelynn99/bigpie_project/blob/master/Untitled6.ipynb\" target=\"_parent\"><img src=\"https://colab.research.google.com/assets/colab-badge.svg\" alt=\"Open In Colab\"/></a>"
      ]
    },
    {
      "cell_type": "code",
      "metadata": {
        "id": "2Rz4OBEZ1Kvd",
        "colab_type": "code",
        "outputId": "fc0b205f-39a7-454d-8519-dad7df18ca8f",
        "colab": {
          "base_uri": "https://localhost:8080/",
          "height": 221
        }
      },
      "source": [
        "class shpae():\n",
        "  \"\"\"도형을 나타내는 클래스\"\"\"\n",
        "  def _init_(self,sides=0):\n",
        "    self.sides=sides\n",
        "\n",
        "  def describe(self):\n",
        "    \"\"\"이 도형에 관한 정보를 화면에 출력한다.\"\"\"\n",
        "    print('이 도형은',self.sides,'개의 변이 있다.')\n",
        "\n",
        "class Triangle(shpae):\n",
        "  \"\"\"삼각형을 나타내는 클래스\"\"\"\n",
        "  sides=3\n",
        "\n",
        "class Rectangle(shpae):\n",
        "  \"\"\"사각형을 나타내는 클래스\"\"\"\n",
        "  sides=4\n",
        "\n",
        "shapes=[\n",
        "        Triangle(),\n",
        "        Rectangle(),\n",
        "]\n",
        "\n",
        "for shape in shapes:\n",
        "    shpae.describe()"
      ],
      "execution_count": 0,
      "outputs": [
        {
          "output_type": "error",
          "ename": "TypeError",
          "evalue": "ignored",
          "traceback": [
            "\u001b[0;31m---------------------------------------------------------------------------\u001b[0m",
            "\u001b[0;31mTypeError\u001b[0m                                 Traceback (most recent call last)",
            "\u001b[0;32m<ipython-input-8-1564e063a04c>\u001b[0m in \u001b[0;36m<module>\u001b[0;34m()\u001b[0m\n\u001b[1;32m     22\u001b[0m \u001b[0;34m\u001b[0m\u001b[0m\n\u001b[1;32m     23\u001b[0m \u001b[0;32mfor\u001b[0m \u001b[0mshape\u001b[0m \u001b[0;32min\u001b[0m \u001b[0mshapes\u001b[0m\u001b[0;34m:\u001b[0m\u001b[0;34m\u001b[0m\u001b[0;34m\u001b[0m\u001b[0m\n\u001b[0;32m---> 24\u001b[0;31m     \u001b[0mshpae\u001b[0m\u001b[0;34m.\u001b[0m\u001b[0mdescribe\u001b[0m\u001b[0;34m(\u001b[0m\u001b[0;34m)\u001b[0m\u001b[0;34m\u001b[0m\u001b[0;34m\u001b[0m\u001b[0m\n\u001b[0m",
            "\u001b[0;31mTypeError\u001b[0m: describe() missing 1 required positional argument: 'self'"
          ]
        }
      ]
    },
    {
      "cell_type": "code",
      "metadata": {
        "id": "7cCUH5DM5Shr",
        "colab_type": "code",
        "colab": {}
      },
      "source": [
        "class FruitJuice():\n",
        "  \"\"\"과일 주스를 나타내는 클래스\"\"\"\n",
        "  valid_fruits = {'귤', '복숭아', '청포도', '딸기','사과'}\n",
        "\n",
        "  def __init__(self):\n",
        "    \"\"\"인스턴스를 초기화한다\"\"\"\n",
        "    self.ingredients = []\n",
        "\n",
        "  def add_ingredient(self, ingredient):\n",
        "    \"\"\"재료를 이 주스에 추가한다.\"\"\"\n",
        "    if ingredient in self.valid_fruits:\n",
        "       self.ingredients.append(ingredient)\n",
        "    else:\n",
        "       print(ingredient,'는 과일 주스에 넣을 수 없습니다')\n",
        "\n",
        "  def describe(self):\n",
        "    \"\"\"이 주스에 관한 정보를 화면에 출력한다.\"\"\"\n",
        "    print('이 주스에는', len(self.ingredients),'개의 재료가 들어있습니다')\n",
        "    print('넣은 재료:',end=' ')\n",
        "    for ingredient in self.ingredients:\n",
        "      print(ingredient, end=', ')\n"
      ],
      "execution_count": 0,
      "outputs": []
    },
    {
      "cell_type": "code",
      "metadata": {
        "id": "xlVayjxF5pU7",
        "colab_type": "code",
        "outputId": "172fddb4-9d61-4117-cf3b-987ef35ca796",
        "colab": {
          "base_uri": "https://localhost:8080/",
          "height": 69
        }
      },
      "source": [
        "juice_1 = FruitJuice()\n",
        "juice_1.add_ingredient('청포도')\n",
        "juice_1.add_ingredient('복숭아')\n",
        "juice_1.add_ingredient('도라지')\n",
        "juice_1.describe()\n",
        "\n",
        "\n",
        "\n"
      ],
      "execution_count": 0,
      "outputs": [
        {
          "output_type": "stream",
          "text": [
            "도라지 는 과일 주스에 넣을 수 없습니다\n",
            "이 주스에는 2 개의 재료가 들어있습니다\n",
            "넣은 재료: 청포도, 복숭아, "
          ],
          "name": "stdout"
        }
      ]
    },
    {
      "cell_type": "code",
      "metadata": {
        "id": "WrLb3cjR8WkK",
        "colab_type": "code",
        "colab": {}
      },
      "source": [
        "class FruitJuice():\n",
        "    \"\"\"과일 주스를 나타내는 클래스\"\"\"\n",
        "    valid_fruits = {'귤', '복숭아', '청포도', '딸기', '사과'}  # 넣을 수 있는 과일\n",
        "    \n",
        "    def __init__(self):\n",
        "        \"\"\"인스턴스를 초기화한다.\"\"\"\n",
        "        self.ingredients = []   # 주스에 들어가는 재료\n",
        "    \n",
        "    def add_ingredient(self, ingredient):\n",
        "        \"\"\"재료(ingredient)를 이 주스에 추가한다.\"\"\"\n",
        "        if ingredient in self.valid_fruits:\n",
        "            self.ingredients.append(ingredient)\n",
        "        else:\n",
        "            print(ingredient, '는 과일 주스에 넣을 수 없습니다.')\n",
        "    \n",
        "    def describe(self):\n",
        "        \"\"\"이 주스에 관한 정보를 화면에 출력한다.\"\"\"\n",
        "        print('이 주스에는', len(self.ingredients), '개의 재료가 들어 있습니다.')\n",
        "        print('넣은 재료:', end=' ')\n",
        "        for ingredient in self.ingredients:\n",
        "            print(ingredient, end=', ')"
      ],
      "execution_count": 0,
      "outputs": []
    }
  ]
}